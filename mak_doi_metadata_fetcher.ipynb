{
 "cells": [
  {
   "cell_type": "code",
   "execution_count": null,
   "id": "22e7136b",
   "metadata": {},
   "outputs": [],
   "source": [
    "import requests\n"
   ]
  },
  {
   "cell_type": "code",
   "execution_count": 2,
   "id": "a1541f36",
   "metadata": {},
   "outputs": [
    {
     "data": {
      "text/plain": [
       "{'doi': '10.4126/frl01-006453569',\n",
       " 'titles': [{'title': 'Kühlschmierstoffe und sonstige komplexe kohlenwasserstoffhaltige Gemische, nichtwassermischbar – Aerosole und Dämpfe : Air Monitoring Methods in German language, 2014'}],\n",
       " 'creators': [{'name': 'Breuer, Dietmar',\n",
       "   'nameType': 'Personal',\n",
       "   'givenName': 'Dietmar',\n",
       "   'familyName': 'Breuer',\n",
       "   'affiliation': [],\n",
       "   'nameIdentifiers': []},\n",
       "  {'name': 'Deutsche Forschungsgemeinschaft. Ständige Senatskommission Zur Prüfung Gesundheitsschädlicher Arbeitsstoffe',\n",
       "   'affiliation': [],\n",
       "   'nameIdentifiers': []},\n",
       "  {'name': 'Pannwitz, Karl‐Heinz',\n",
       "   'nameType': 'Personal',\n",
       "   'givenName': 'Karl‐Heinz',\n",
       "   'familyName': 'Pannwitz',\n",
       "   'affiliation': [],\n",
       "   'nameIdentifiers': []},\n",
       "  {'name': 'Blaskowitz, Morten',\n",
       "   'nameType': 'Personal',\n",
       "   'givenName': 'Morten',\n",
       "   'familyName': 'Blaskowitz',\n",
       "   'affiliation': [],\n",
       "   'nameIdentifiers': []}],\n",
       " 'publicationYear': 2014,\n",
       " 'publisher': 'Deutsche Forschungsgemeinschaft. Ständige Senatskommission zur Prüfung Gesundheitsschädlicher Arbeitsstoffe',\n",
       " 'subjects': [{'subject': 'KKG', 'subjectScheme': 'GND'},\n",
       "  {'subject': 'Luftanalysen-Methoden', 'subjectScheme': 'GND'},\n",
       "  {'subject': 'Umformhilfsstoff', 'subjectScheme': 'GND'},\n",
       "  {'subject': 'Arbeitsstoff', 'subjectScheme': 'GND'},\n",
       "  {'subject': 'Luftanalysen', 'subjectScheme': 'GND'},\n",
       "  {'subject': 'Infrarotspektrometrie', 'subjectScheme': 'GND'},\n",
       "  {'subject': 'Gefahrstoff', 'subjectScheme': 'GND'},\n",
       "  {'subject': 'Analysenmethode', 'subjectScheme': 'GND'},\n",
       "  {'subject': 'Finishing-Öl', 'subjectScheme': 'GND'},\n",
       "  {'subject': 'Schleiföl', 'subjectScheme': 'GND'},\n",
       "  {'subject': 'GGP-Probenahmesystem', 'subjectScheme': 'GND'},\n",
       "  {'subject': 'Arbeitsplatzmessung', 'subjectScheme': 'GND'},\n",
       "  {'subject': 'KSS', 'subjectScheme': 'GND'},\n",
       "  {'subject': 'Messverfahren', 'subjectScheme': 'GND'},\n",
       "  {'subject': '0-21-5', 'subjectScheme': 'GND'},\n",
       "  {'subject': 'FTIR', 'subjectScheme': 'GND'},\n",
       "  {'subject': 'personengetragene Probenahme', 'subjectScheme': 'GND'},\n",
       "  {'subject': 'Air Monitoring Methods', 'subjectScheme': 'GND'},\n",
       "  {'subject': 'Kühlschmierstoffe', 'subjectScheme': 'GND'},\n",
       "  {'subject': 'Korrosionsschutzflüssigkeit', 'subjectScheme': 'GND'},\n",
       "  {'subject': 'Messunsicherheit', 'subjectScheme': 'GND'}],\n",
       " 'descriptions': [],\n",
       " 'language': 'de',\n",
       " 'license': None,\n",
       " 'url': 'https://repository.publisso.de/resource/frl:6453569'}"
      ]
     },
     "execution_count": 2,
     "metadata": {},
     "output_type": "execute_result"
    }
   ],
   "source": [
    "# Beispielhafte DOI aus der Excel-Datei\n",
    "example_doi = \"10.4126/FRL01-006453569\"\n",
    "url = f\"https://api.datacite.org/dois/{example_doi}\"\n",
    "\n",
    "# API-Anfrage an DataCite\n",
    "response = requests.get(url)\n",
    "data = response.json()\n",
    "\n",
    "# Nur die relevanten Metadaten ausgeben\n",
    "metadata = data.get(\"data\", {}).get(\"attributes\", {})\n",
    "\n",
    "# Felder, die typischerweise für Wikidata relevant sind\n",
    "relevant_fields = {\n",
    "    \"doi\": metadata.get(\"doi\"),\n",
    "    \"titles\": metadata.get(\"titles\"),\n",
    "    \"creators\": metadata.get(\"creators\"),\n",
    "    \"publicationYear\": metadata.get(\"publicationYear\"),\n",
    "    \"publisher\": metadata.get(\"publisher\"),\n",
    "    \"subjects\": metadata.get(\"subjects\"),\n",
    "    \"descriptions\": metadata.get(\"descriptions\"),\n",
    "    \"language\": metadata.get(\"language\"),\n",
    "    \"license\": metadata.get(\"license\"),\n",
    "    \"url\": metadata.get(\"url\")\n",
    "}\n",
    "\n",
    "relevant_fields"
   ]
  }
 ],
 "metadata": {
  "kernelspec": {
   "display_name": "Python 3",
   "language": "python",
   "name": "python3"
  },
  "language_info": {
   "codemirror_mode": {
    "name": "ipython",
    "version": 3
   },
   "file_extension": ".py",
   "mimetype": "text/x-python",
   "name": "python",
   "nbconvert_exporter": "python",
   "pygments_lexer": "ipython3",
   "version": "3.9.7"
  }
 },
 "nbformat": 4,
 "nbformat_minor": 5
}
