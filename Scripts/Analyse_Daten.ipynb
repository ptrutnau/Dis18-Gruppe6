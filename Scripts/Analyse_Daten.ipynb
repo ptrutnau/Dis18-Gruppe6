{
 "cells": [
  {
   "cell_type": "markdown",
   "metadata": {},
   "source": [
    "# Analyse "
   ]
  },
  {
   "cell_type": "code",
   "execution_count": 1,
   "metadata": {},
   "outputs": [],
   "source": [
    "import pandas as pd"
   ]
  },
  {
   "cell_type": "code",
   "execution_count": 5,
   "metadata": {},
   "outputs": [
    {
     "data": {
      "text/plain": [
       "{'Spaltennamen': ['wiley_doi', 'frl_doi', 'frl_uri', 'frl_id'],\n",
       " 'Anzahl Zeilen': 3975,\n",
       " 'Erste Zeilen':                            wiley_doi                  frl_doi  \\\n",
       " 0  10.1002/3527600418.am0213stae0013  10.4126/FRL01-006453556   \n",
       " 1  10.1002/3527600418.am0215kskd0010  10.4126/FRL01-006453567   \n",
       " 2  10.1002/3527600418.am0215kskd0018  10.4126/FRL01-006453569   \n",
       " 3  10.1002/3527600418.am0215kske0005  10.4126/FRL01-006453571   \n",
       " 4  10.1002/3527600418.am0215kske2015  10.4126/FRL01-006453573   \n",
       " \n",
       "                                              frl_uri       frl_id  \n",
       " 0  https://repository.publisso.de/resource/frl:64...  frl:6453556  \n",
       " 1  https://repository.publisso.de/resource/frl:64...  frl:6453567  \n",
       " 2  https://repository.publisso.de/resource/frl:64...  frl:6453569  \n",
       " 3  https://repository.publisso.de/resource/frl:64...  frl:6453571  \n",
       " 4  https://repository.publisso.de/resource/frl:64...  frl:6453573  }"
      ]
     },
     "execution_count": 5,
     "metadata": {},
     "output_type": "execute_result"
    }
   ],
   "source": [
    "import pandas as pd\n",
    "\n",
    "# Datei einlesen\n",
    "file_path = \"./data/2023-11-17_mapping_makDoi_frlDoi.xlsx\"\n",
    "df = pd.read_excel(file_path)\n",
    "\n",
    "# Überblick über den DataFrame erzeugen\n",
    "overview = {\n",
    "    \"Spaltennamen\": df.columns.tolist(),\n",
    "    \"Anzahl Zeilen\": len(df),\n",
    "    \"Erste Zeilen\": df.head()\n",
    "}\n",
    "\n",
    "overview\n"
   ]
  },
  {
   "cell_type": "code",
   "execution_count": null,
   "metadata": {},
   "outputs": [
    {
     "data": {
      "text/plain": [
       "<pandas.io.excel._base.ExcelFile at 0x23f08cf2e50>"
      ]
     },
     "execution_count": 4,
     "metadata": {},
     "output_type": "execute_result"
    }
   ],
   "source": []
  }
 ],
 "metadata": {
  "kernelspec": {
   "display_name": "base",
   "language": "python",
   "name": "python3"
  },
  "language_info": {
   "codemirror_mode": {
    "name": "ipython",
    "version": 3
   },
   "file_extension": ".py",
   "mimetype": "text/x-python",
   "name": "python",
   "nbconvert_exporter": "python",
   "pygments_lexer": "ipython3",
   "version": "3.9.7"
  }
 },
 "nbformat": 4,
 "nbformat_minor": 2
}
