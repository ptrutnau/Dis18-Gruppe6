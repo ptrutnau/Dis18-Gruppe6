{
 "cells": [
  {
   "cell_type": "markdown",
   "metadata": {},
   "source": [
    "# Analyse "
   ]
  },
  {
   "cell_type": "code",
   "execution_count": 5,
   "metadata": {},
   "outputs": [],
   "source": [
    "import json\n",
    "from collections import Counter\n",
    "import pandas as pd"
   ]
  },
  {
   "cell_type": "code",
   "execution_count": 7,
   "metadata": {},
   "outputs": [
    {
     "name": "stdout",
     "output_type": "stream",
     "text": [
      "\n",
      "Summary Statistics:\n",
      "                    Metric  Value\n",
      "0       Total publications   3975\n",
      "1           Unique authors    327\n",
      "2       Authors with ORCID     59\n",
      "3  Years with publications      0\n",
      "\n",
      "Publication Count by Year:\n",
      "Empty DataFrame\n",
      "Columns: [Year, Count]\n",
      "Index: []\n"
     ]
    }
   ],
   "source": [
    "# JSON-Datei laden\n",
    "with open(\"data/mak_metadata_with_orcid.json\", \"r\", encoding=\"utf-8\") as f:\n",
    "    data = json.load(f)\n",
    "\n",
    "# Initialisierung\n",
    "total_publications = len(data)\n",
    "unique_authors = set()\n",
    "authors_with_orcid = set()\n",
    "years = []\n",
    "\n",
    "# Durchlauf durch alle Publikationen\n",
    "for entry in data:\n",
    "    year = entry.get(\"publicationYear\")\n",
    "    if year:\n",
    "        years.append(str(year))\n",
    "\n",
    "    for author in entry.get(\"authors\", []):\n",
    "        name = author.get(\"name\")\n",
    "        orcid = author.get(\"orcid\")\n",
    "\n",
    "        if name:\n",
    "            unique_authors.add(name)\n",
    "        if orcid:\n",
    "            authors_with_orcid.add(orcid)\n",
    "\n",
    "# Zählen\n",
    "num_unique_authors = len(unique_authors)\n",
    "num_authors_with_orcid = len(authors_with_orcid)\n",
    "year_distribution = Counter(years)\n",
    "\n",
    "# Ausgabe vorbereiten\n",
    "df_summary = pd.DataFrame({\n",
    "    \"Metric\": [\n",
    "        \"Total publications\",\n",
    "        \"Unique authors\",\n",
    "        \"Authors with ORCID\",\n",
    "        \"Years with publications\"\n",
    "    ],\n",
    "    \"Value\": [\n",
    "        total_publications,\n",
    "        num_unique_authors,\n",
    "        num_authors_with_orcid,\n",
    "        len(year_distribution)\n",
    "    ]\n",
    "})\n",
    "\n",
    "df_years = pd.DataFrame(year_distribution.items(), columns=[\"Year\", \"Count\"]).sort_values(by=\"Year\")\n",
    "\n",
    "# Anzeigen\n",
    "print(\"\\nSummary Statistics:\")\n",
    "print(df_summary)\n",
    "\n",
    "print(\"\\nPublication Count by Year:\")\n",
    "print(df_years)\n",
    "\n"
   ]
  }
 ],
 "metadata": {
  "kernelspec": {
   "display_name": "Python 3",
   "language": "python",
   "name": "python3"
  },
  "language_info": {
   "codemirror_mode": {
    "name": "ipython",
    "version": 3
   },
   "file_extension": ".py",
   "mimetype": "text/x-python",
   "name": "python",
   "nbconvert_exporter": "python",
   "pygments_lexer": "ipython3",
   "version": "3.11.8"
  }
 },
 "nbformat": 4,
 "nbformat_minor": 2
}
